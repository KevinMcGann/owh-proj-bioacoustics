{
 "cells": [
  {
   "cell_type": "code",
   "execution_count": 14,
   "id": "6a5bb654-cd6a-4b2e-a566-afe946eda867",
   "metadata": {},
   "outputs": [],
   "source": [
    "from timezonefinder import TimezoneFinder\n"
   ]
  },
  {
   "cell_type": "code",
   "execution_count": 5,
   "id": "7ccdc0fb-5a71-4c02-b480-3af654d2c166",
   "metadata": {},
   "outputs": [],
   "source": [
    "obj = TimezoneFinder()"
   ]
  },
  {
   "cell_type": "code",
   "execution_count": 16,
   "id": "1d1753df-73c3-4e80-9830-5858dfae472d",
   "metadata": {},
   "outputs": [],
   "source": [
    "tf= TimezoneFinder()\n",
    " \n"
   ]
  },
  {
   "cell_type": "code",
   "execution_count": 20,
   "id": "614673dc-622e-4896-a5d4-5e4ae91efea7",
   "metadata": {},
   "outputs": [],
   "source": [
    "latitude, longitude = 52.5061, 13.358\n",
    "Timez=tf.timezone_at(lng=longitude, lat=latitude)\n"
   ]
  },
  {
   "cell_type": "code",
   "execution_count": 21,
   "id": "9fcda020-bea3-4d65-add6-3c902f54d3e2",
   "metadata": {},
   "outputs": [
    {
     "data": {
      "text/plain": [
       "str"
      ]
     },
     "execution_count": 21,
     "metadata": {},
     "output_type": "execute_result"
    }
   ],
   "source": [
    "type(Timez)"
   ]
  },
  {
   "cell_type": "code",
   "execution_count": 30,
   "id": "bd540860-ea3c-40c8-84c4-f51b81f3ba9f",
   "metadata": {},
   "outputs": [],
   "source": [
    " from datetime import datetime\n",
    "from pytz import timezone, utc\n",
    "\n",
    "\n",
    "def get_offset(*, lat, lng):\n",
    "    \"\"\"\n",
    "    returns a location's time zone offset from UTC in minutes.\n",
    "    \"\"\"\n",
    "\n",
    "    today = datetime.now()\n",
    "    tz_target = timezone(tf.certain_timezone_at(lng=lng, lat=lat))\n",
    "    # ATTENTION: tz_target could be None! handle error case\n",
    "    today_target = tz_target.localize(today)\n",
    "    today_utc = utc.localize(today)\n",
    "    return (today_utc - today_target).total_seconds() / 60\n",
    "\n",
    "\n",
    "bergamo = {\"lat\": -63.59592, \"lng\": 146.17738}\n",
    "minute_offset = get_offset(**bergamo)"
   ]
  },
  {
   "cell_type": "code",
   "execution_count": 27,
   "id": "35918f27-0abd-42db-9a72-105e6fcd47ee",
   "metadata": {},
   "outputs": [
    {
     "data": {
      "text/plain": [
       "600.0"
      ]
     },
     "execution_count": 27,
     "metadata": {},
     "output_type": "execute_result"
    }
   ],
   "source": [
    "minute_offset"
   ]
  },
  {
   "cell_type": "code",
   "execution_count": 34,
   "id": "a0054ac4-ad5e-4af9-a01f-d879e956a177",
   "metadata": {},
   "outputs": [],
   "source": [
    "Timeoffset = minute_offset /60"
   ]
  },
  {
   "cell_type": "code",
   "execution_count": 35,
   "id": "cd2dbf9a-805c-4255-843c-f4edf539def6",
   "metadata": {},
   "outputs": [
    {
     "data": {
      "text/plain": [
       "10.0"
      ]
     },
     "execution_count": 35,
     "metadata": {},
     "output_type": "execute_result"
    }
   ],
   "source": [
    "Timeoffset"
   ]
  },
  {
   "cell_type": "code",
   "execution_count": null,
   "id": "1ca3a5dc-1441-485e-a522-99274bc7576e",
   "metadata": {},
   "outputs": [],
   "source": []
  }
 ],
 "metadata": {
  "kernelspec": {
   "display_name": "Python [conda env:bioacoustics]",
   "language": "python",
   "name": "conda-env-bioacoustics-py"
  },
  "language_info": {
   "codemirror_mode": {
    "name": "ipython",
    "version": 3
   },
   "file_extension": ".py",
   "mimetype": "text/x-python",
   "name": "python",
   "nbconvert_exporter": "python",
   "pygments_lexer": "ipython3",
   "version": "3.9.6"
  }
 },
 "nbformat": 4,
 "nbformat_minor": 5
}
