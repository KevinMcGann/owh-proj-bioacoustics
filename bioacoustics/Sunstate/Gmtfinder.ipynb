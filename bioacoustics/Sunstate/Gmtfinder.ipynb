{
 "cells": [
  {
   "cell_type": "code",
   "execution_count": 1,
   "id": "6a5bb654-cd6a-4b2e-a566-afe946eda867",
   "metadata": {},
   "outputs": [],
   "source": [
    "from timezonefinder import TimezoneFinder"
   ]
  },
  {
   "cell_type": "code",
   "execution_count": 8,
   "id": "7ccdc0fb-5a71-4c02-b480-3af654d2c166",
   "metadata": {},
   "outputs": [],
   "source": [
    "obj = TimezoneFinder()"
   ]
  },
  {
   "cell_type": "code",
   "execution_count": 12,
   "id": "1d1753df-73c3-4e80-9830-5858dfae472d",
   "metadata": {},
   "outputs": [
    {
     "data": {
      "text/plain": [
       "'Etc/GMT-2'"
      ]
     },
     "execution_count": 12,
     "metadata": {},
     "output_type": "execute_result"
    }
   ],
   "source": [
    "latitude = 25.6093239\n",
    "longitude = 85.1235252 \n",
    "obj.timezone_at(lng=latitude, lat=longitude)\n"
   ]
  }
 ],
 "metadata": {
  "kernelspec": {
   "display_name": "Python [conda env:bioacoustics]",
   "language": "python",
   "name": "conda-env-bioacoustics-py"
  },
  "language_info": {
   "codemirror_mode": {
    "name": "ipython",
    "version": 3
   },
   "file_extension": ".py",
   "mimetype": "text/x-python",
   "name": "python",
   "nbconvert_exporter": "python",
   "pygments_lexer": "ipython3",
   "version": "3.9.6"
  }
 },
 "nbformat": 4,
 "nbformat_minor": 5
}
