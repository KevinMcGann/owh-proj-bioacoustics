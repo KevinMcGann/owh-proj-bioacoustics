{
 "cells": [
  {
   "cell_type": "markdown",
   "id": "f2e7dc2e-156b-4e97-b5c0-58c12d3eca26",
   "metadata": {},
   "source": [
    "This notebook use echopype to load EK80 data for the sound scattering layer algorithm."
   ]
  },
  {
   "cell_type": "code",
   "execution_count": 2,
   "id": "21ea0f82-6638-44f8-a66c-6df2968fa194",
   "metadata": {},
   "outputs": [],
   "source": [
    "import echopype as ep\n",
    "import xarray as xr\n",
    "import glob\n",
    "import numpy as np\n",
    "\n",
    "import warnings\n",
    "warnings.simplefilter(\"ignore\", category=DeprecationWarning)"
   ]
  },
  {
   "cell_type": "markdown",
   "id": "4118ea22-8e58-4827-9f78-22524fd91196",
   "metadata": {},
   "source": [
    "## Convert .raw ek80 to .nc\n",
    "This step requires version 0.5.0 + of echopype because the framework to convert files has changed.\n",
    "\n",
    "Also requires Xarray version 0.17.0 at least. Check for combine_attrs error and reinstaller xarray if you get that error."
   ]
  },
  {
   "cell_type": "code",
   "execution_count": 3,
   "id": "6e163e54-7e0a-45d4-abb7-cc8167ca5d85",
   "metadata": {},
   "outputs": [
    {
     "name": "stdout",
     "output_type": "stream",
     "text": [
      "echopype version: 0.5.2\n",
      "xarray version: 0.17.0\n"
     ]
    }
   ],
   "source": [
    "print(f\"echopype version: {ep.__version__}\")\n",
    "print(f\"xarray version: {xr.__version__}\")"
   ]
  },
  {
   "cell_type": "code",
   "execution_count": null,
   "id": "fe2719ed-f925-4dc6-9846-c0b4b7523f16",
   "metadata": {},
   "outputs": [],
   "source": [
    "fname = './example_data/GLIDER_SB_2018_v5-Phase0-D20180625-T170658-1.raw'\n",
    "ed = ep.open_raw(fname, sonar_model='ek80');"
   ]
  },
  {
   "cell_type": "markdown",
   "id": "13080a68-4ad9-414f-a115-b46b8270579d",
   "metadata": {},
   "source": [
    "## Save the EchoData to a netCDF file for further analysis"
   ]
  },
  {
   "cell_type": "code",
   "execution_count": 4,
   "id": "d4570d86-1b72-484c-8565-09ba90460802",
   "metadata": {},
   "outputs": [
    {
     "ename": "NameError",
     "evalue": "name 'ed' is not defined",
     "output_type": "error",
     "traceback": [
      "\u001b[0;31m---------------------------------------------------------------------------\u001b[0m",
      "\u001b[0;31mNameError\u001b[0m                                 Traceback (most recent call last)",
      "\u001b[0;32m/tmp/ipykernel_3878/366320268.py\u001b[0m in \u001b[0;36m<module>\u001b[0;34m\u001b[0m\n\u001b[0;32m----> 1\u001b[0;31m \u001b[0med\u001b[0m\u001b[0;34m.\u001b[0m\u001b[0mto_netcdf\u001b[0m\u001b[0;34m(\u001b[0m\u001b[0msave_path\u001b[0m\u001b[0;34m=\u001b[0m\u001b[0;34m'./example_data/nc_files'\u001b[0m\u001b[0;34m)\u001b[0m\u001b[0;34m\u001b[0m\u001b[0;34m\u001b[0m\u001b[0m\n\u001b[0m",
      "\u001b[0;31mNameError\u001b[0m: name 'ed' is not defined"
     ]
    }
   ],
   "source": [
    "ed.to_netcdf(save_path='./example_data/nc_files')"
   ]
  }
 ],
 "metadata": {
  "kernelspec": {
   "display_name": "Python [conda env:scatlayer-env]",
   "language": "python",
   "name": "conda-env-scatlayer-env-py"
  },
  "language_info": {
   "codemirror_mode": {
    "name": "ipython",
    "version": 3
   },
   "file_extension": ".py",
   "mimetype": "text/x-python",
   "name": "python",
   "nbconvert_exporter": "python",
   "pygments_lexer": "ipython3",
   "version": "3.9.6"
  }
 },
 "nbformat": 4,
 "nbformat_minor": 5
}
